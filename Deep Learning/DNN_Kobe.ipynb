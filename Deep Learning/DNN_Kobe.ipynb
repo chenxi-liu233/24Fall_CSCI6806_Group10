{
  "nbformat": 4,
  "nbformat_minor": 0,
  "metadata": {
    "colab": {
      "provenance": []
    },
    "kernelspec": {
      "name": "python3",
      "display_name": "Python 3"
    },
    "language_info": {
      "name": "python"
    }
  },
  "cells": [
    {
      "cell_type": "code",
      "execution_count": 3,
      "metadata": {
        "id": "acaeRef4aTVe"
      },
      "outputs": [],
      "source": [
        "import pandas as pd\n",
        "import numpy as np\n",
        "\n",
        "import torch\n",
        "import torch.nn as nn\n",
        "import torch.optim as optim\n",
        "from torch.utils.data import Dataset, DataLoader\n",
        "\n",
        "from ucimlrepo import fetch_ucirepo  # Ensure this package is installed\n",
        "from sklearn.model_selection import train_test_split\n",
        "from sklearn.preprocessing import StandardScaler\n",
        "from sklearn.metrics import classification_report, confusion_matrix\n",
        "import seaborn as sns\n",
        "import matplotlib.pyplot as plt\n"
      ]
    },
    {
      "cell_type": "code",
      "source": [
        "# Load dataset\n",
        "heart_disease = fetch_ucirepo(id=45)\n",
        "\n",
        "# Extract features and target from the dataset\n",
        "X = heart_disease.data.features\n",
        "y = heart_disease.data.targets\n",
        "\n",
        "# Combine features and target into a single DataFrame\n",
        "df = pd.concat([X, y], axis=1)\n",
        "\n",
        "# Assign column names to the DataFrame\n",
        "column_names = [\n",
        "    'age', 'sex', 'cp', 'trestbps', 'chol', 'fbs',\n",
        "    'restecg', 'thalach', 'exang', 'oldpeak',\n",
        "    'slope', 'ca', 'thal', 'num'\n",
        "]\n",
        "df.columns = column_names\n",
        "\n",
        "# Handle Missing Values: Replace '?' and '' with NaN, then convert columns to numeric\n",
        "df.replace(['?', ''], np.nan, inplace=True)\n",
        "df = df.apply(pd.to_numeric, errors='coerce')\n",
        "print(df.isnull().sum())\n",
        "\n",
        "# Fill missing numerical values with the median of each column\n",
        "for col in ['ca', 'thal', 'oldpeak', 'slope']:\n",
        "    df[col].fillna(df[col].median(), inplace=True)\n",
        "\n",
        "# Simplify the 'num' column to a binary classification target\n",
        "df['target'] = df['num'].apply(lambda x: 1 if x > 0 else 0)\n",
        "df.drop('num', axis=1, inplace=True)\n",
        "\n",
        "# Convert 'ca' and 'thal' to integer types\n",
        "df['ca'] = df['ca'].astype(int)\n",
        "df['thal'] = df['thal'].astype(int)\n",
        "\n",
        "# Apply One-Hot Encoding to categorical variables\n",
        "categorical_cols = ['cp', 'restecg', 'slope', 'thal', 'ca']\n",
        "df = pd.get_dummies(df, columns=categorical_cols, drop_first=True)\n",
        "\n",
        "# Separate the features and the target variable for machine learning\n",
        "X = df.drop('target', axis=1).values\n",
        "y = df['target'].values\n",
        "\n",
        "# Split the data into training and test sets\n",
        "X_train, X_test, y_train, y_test = train_test_split(X, y, test_size=0.2, random_state=42, stratify=y)\n",
        "\n",
        "# Feature scaling using StandardScaler\n",
        "scaler = StandardScaler()\n",
        "X_train = scaler.fit_transform(X_train)\n",
        "X_test = scaler.transform(X_test)"
      ],
      "metadata": {
        "colab": {
          "base_uri": "https://localhost:8080/"
        },
        "id": "bEVYlUlnaxYD",
        "outputId": "2f27d5f8-3977-432f-ea60-696f5fbc3571"
      },
      "execution_count": 4,
      "outputs": [
        {
          "output_type": "stream",
          "name": "stdout",
          "text": [
            "age         0\n",
            "sex         0\n",
            "cp          0\n",
            "trestbps    0\n",
            "chol        0\n",
            "fbs         0\n",
            "restecg     0\n",
            "thalach     0\n",
            "exang       0\n",
            "oldpeak     0\n",
            "slope       0\n",
            "ca          4\n",
            "thal        2\n",
            "num         0\n",
            "dtype: int64\n"
          ]
        },
        {
          "output_type": "stream",
          "name": "stderr",
          "text": [
            "<ipython-input-4-4a0aa4167099>:26: FutureWarning: A value is trying to be set on a copy of a DataFrame or Series through chained assignment using an inplace method.\n",
            "The behavior will change in pandas 3.0. This inplace method will never work because the intermediate object on which we are setting values always behaves as a copy.\n",
            "\n",
            "For example, when doing 'df[col].method(value, inplace=True)', try using 'df.method({col: value}, inplace=True)' or df[col] = df[col].method(value) instead, to perform the operation inplace on the original object.\n",
            "\n",
            "\n",
            "  df[col].fillna(df[col].median(), inplace=True)\n"
          ]
        }
      ]
    },
    {
      "cell_type": "code",
      "source": [
        "class HeartDiseaseDataset(Dataset):\n",
        "    def __init__(self, features, targets):\n",
        "        self.X = torch.tensor(features, dtype=torch.float32)\n",
        "        self.y = torch.tensor(targets, dtype=torch.float32)  # Binary classification\n",
        "\n",
        "    def __len__(self):\n",
        "        return len(self.y)\n",
        "\n",
        "    def __getitem__(self, idx):\n",
        "        return self.X[idx], self.y[idx]\n",
        "# Create datasets\n",
        "train_dataset = HeartDiseaseDataset(X_train, y_train)\n",
        "test_dataset = HeartDiseaseDataset(X_test, y_test)\n",
        "\n",
        "# Create data loaders\n",
        "batch_size = 16\n",
        "train_loader = DataLoader(dataset=train_dataset, batch_size=batch_size, shuffle=True)\n",
        "test_loader = DataLoader(dataset=test_dataset, batch_size=batch_size)\n"
      ],
      "metadata": {
        "id": "HL2AicJTbmC4"
      },
      "execution_count": 5,
      "outputs": []
    },
    {
      "cell_type": "code",
      "source": [
        "class HeartDiseaseModel(nn.Module):\n",
        "    def __init__(self, input_dim):\n",
        "        super(HeartDiseaseModel, self).__init__()\n",
        "        self.network = nn.Sequential(\n",
        "            nn.Linear(input_dim, 128),\n",
        "            nn.ReLU(),\n",
        "            nn.Dropout(0.3),\n",
        "            nn.Linear(128, 64),\n",
        "            nn.ReLU(),\n",
        "            nn.Dropout(0.3),\n",
        "            nn.Linear(64, 1),\n",
        "            nn.Sigmoid()  # For binary classification\n",
        "        )\n",
        "\n",
        "    def forward(self, x):\n",
        "        return self.network(x)\n"
      ],
      "metadata": {
        "id": "MdNLHvGmcQaa"
      },
      "execution_count": 9,
      "outputs": []
    },
    {
      "cell_type": "code",
      "source": [
        "input_dim = X_train.shape[1]\n",
        "model = HeartDiseaseModel(input_dim)\n",
        "\n",
        "criterion = nn.BCELoss()\n",
        "optimizer = optim.Adam(model.parameters(), lr=0.0001)\n",
        "\n",
        "num_epochs = 100\n",
        "patience = 20  # For early stopping\n",
        "best_loss = np.inf\n",
        "counter = 0\n",
        "train_losses = []\n",
        "val_losses = []\n",
        "\n",
        "for epoch in range(num_epochs):\n",
        "    model.train()\n",
        "    running_loss = 0.0\n",
        "    for X_batch, y_batch in train_loader:\n",
        "        optimizer.zero_grad()\n",
        "        outputs = model(X_batch).view(-1)\n",
        "        loss = criterion(outputs, y_batch)\n",
        "        loss.backward()\n",
        "        optimizer.step()\n",
        "        running_loss += loss.item() * X_batch.size(0)\n",
        "    epoch_loss = running_loss / len(train_loader.dataset)\n",
        "    train_losses.append(epoch_loss)\n",
        "\n",
        "    # Validation phase\n",
        "    model.eval()\n",
        "    with torch.no_grad():\n",
        "        val_outputs = model(torch.tensor(X_test, dtype=torch.float32)).view(-1)\n",
        "        val_loss = criterion(val_outputs, torch.tensor(y_test, dtype=torch.float32)).item()\n",
        "        val_losses.append(val_loss)\n",
        "\n",
        "    print(f\"Epoch [{epoch+1}/{num_epochs}], Train Loss: {epoch_loss:.4f}, Val Loss: {val_loss:.4f}\")\n",
        "\n",
        "    # Early stopping\n",
        "    if val_loss < best_loss:\n",
        "        best_loss = val_loss\n",
        "        counter = 0\n",
        "        best_model_state = model.state_dict()\n",
        "    else:\n",
        "        counter += 1\n",
        "        if counter >= patience:\n",
        "            print(\"Early stopping triggered\")\n",
        "            break\n",
        "\n",
        "# Load the best model\n",
        "model.load_state_dict(best_model_state)\n"
      ],
      "metadata": {
        "colab": {
          "base_uri": "https://localhost:8080/"
        },
        "id": "g9lybGzHcqw2",
        "outputId": "050a6244-10b4-4b02-962c-2a0936012f61"
      },
      "execution_count": 14,
      "outputs": [
        {
          "output_type": "stream",
          "name": "stdout",
          "text": [
            "Epoch [1/100], Train Loss: 0.6994, Val Loss: 0.6959\n",
            "Epoch [2/100], Train Loss: 0.6829, Val Loss: 0.6814\n",
            "Epoch [3/100], Train Loss: 0.6755, Val Loss: 0.6686\n",
            "Epoch [4/100], Train Loss: 0.6641, Val Loss: 0.6540\n",
            "Epoch [5/100], Train Loss: 0.6513, Val Loss: 0.6413\n",
            "Epoch [6/100], Train Loss: 0.6448, Val Loss: 0.6283\n",
            "Epoch [7/100], Train Loss: 0.6270, Val Loss: 0.6134\n",
            "Epoch [8/100], Train Loss: 0.6208, Val Loss: 0.5994\n",
            "Epoch [9/100], Train Loss: 0.6112, Val Loss: 0.5856\n",
            "Epoch [10/100], Train Loss: 0.5962, Val Loss: 0.5718\n",
            "Epoch [11/100], Train Loss: 0.5782, Val Loss: 0.5569\n",
            "Epoch [12/100], Train Loss: 0.5788, Val Loss: 0.5428\n",
            "Epoch [13/100], Train Loss: 0.5658, Val Loss: 0.5276\n",
            "Epoch [14/100], Train Loss: 0.5604, Val Loss: 0.5140\n",
            "Epoch [15/100], Train Loss: 0.5273, Val Loss: 0.4991\n",
            "Epoch [16/100], Train Loss: 0.5261, Val Loss: 0.4842\n",
            "Epoch [17/100], Train Loss: 0.5212, Val Loss: 0.4699\n",
            "Epoch [18/100], Train Loss: 0.5093, Val Loss: 0.4551\n",
            "Epoch [19/100], Train Loss: 0.4986, Val Loss: 0.4420\n",
            "Epoch [20/100], Train Loss: 0.4855, Val Loss: 0.4325\n",
            "Epoch [21/100], Train Loss: 0.4750, Val Loss: 0.4210\n",
            "Epoch [22/100], Train Loss: 0.4681, Val Loss: 0.4086\n",
            "Epoch [23/100], Train Loss: 0.4570, Val Loss: 0.3976\n",
            "Epoch [24/100], Train Loss: 0.4412, Val Loss: 0.3892\n",
            "Epoch [25/100], Train Loss: 0.4339, Val Loss: 0.3791\n",
            "Epoch [26/100], Train Loss: 0.4336, Val Loss: 0.3718\n",
            "Epoch [27/100], Train Loss: 0.4259, Val Loss: 0.3636\n",
            "Epoch [28/100], Train Loss: 0.4180, Val Loss: 0.3548\n",
            "Epoch [29/100], Train Loss: 0.4025, Val Loss: 0.3479\n",
            "Epoch [30/100], Train Loss: 0.3991, Val Loss: 0.3403\n",
            "Epoch [31/100], Train Loss: 0.4062, Val Loss: 0.3351\n",
            "Epoch [32/100], Train Loss: 0.3957, Val Loss: 0.3288\n",
            "Epoch [33/100], Train Loss: 0.3886, Val Loss: 0.3226\n",
            "Epoch [34/100], Train Loss: 0.3854, Val Loss: 0.3168\n",
            "Epoch [35/100], Train Loss: 0.3846, Val Loss: 0.3138\n",
            "Epoch [36/100], Train Loss: 0.3789, Val Loss: 0.3086\n",
            "Epoch [37/100], Train Loss: 0.3746, Val Loss: 0.3041\n",
            "Epoch [38/100], Train Loss: 0.3743, Val Loss: 0.3033\n",
            "Epoch [39/100], Train Loss: 0.3733, Val Loss: 0.3015\n",
            "Epoch [40/100], Train Loss: 0.3640, Val Loss: 0.2982\n",
            "Epoch [41/100], Train Loss: 0.3535, Val Loss: 0.2958\n",
            "Epoch [42/100], Train Loss: 0.3693, Val Loss: 0.2927\n",
            "Epoch [43/100], Train Loss: 0.3565, Val Loss: 0.2907\n",
            "Epoch [44/100], Train Loss: 0.3539, Val Loss: 0.2890\n",
            "Epoch [45/100], Train Loss: 0.3448, Val Loss: 0.2876\n",
            "Epoch [46/100], Train Loss: 0.3483, Val Loss: 0.2865\n",
            "Epoch [47/100], Train Loss: 0.3625, Val Loss: 0.2848\n",
            "Epoch [48/100], Train Loss: 0.3566, Val Loss: 0.2838\n",
            "Epoch [49/100], Train Loss: 0.3489, Val Loss: 0.2829\n",
            "Epoch [50/100], Train Loss: 0.3535, Val Loss: 0.2841\n",
            "Epoch [51/100], Train Loss: 0.3312, Val Loss: 0.2828\n",
            "Epoch [52/100], Train Loss: 0.3365, Val Loss: 0.2827\n",
            "Epoch [53/100], Train Loss: 0.3625, Val Loss: 0.2838\n",
            "Epoch [54/100], Train Loss: 0.3331, Val Loss: 0.2833\n",
            "Epoch [55/100], Train Loss: 0.3225, Val Loss: 0.2809\n",
            "Epoch [56/100], Train Loss: 0.3351, Val Loss: 0.2789\n",
            "Epoch [57/100], Train Loss: 0.3403, Val Loss: 0.2779\n",
            "Epoch [58/100], Train Loss: 0.3366, Val Loss: 0.2782\n",
            "Epoch [59/100], Train Loss: 0.3481, Val Loss: 0.2786\n",
            "Epoch [60/100], Train Loss: 0.3458, Val Loss: 0.2795\n",
            "Epoch [61/100], Train Loss: 0.3396, Val Loss: 0.2795\n",
            "Epoch [62/100], Train Loss: 0.3360, Val Loss: 0.2794\n",
            "Epoch [63/100], Train Loss: 0.3407, Val Loss: 0.2789\n",
            "Epoch [64/100], Train Loss: 0.3210, Val Loss: 0.2773\n",
            "Epoch [65/100], Train Loss: 0.3301, Val Loss: 0.2763\n",
            "Epoch [66/100], Train Loss: 0.3211, Val Loss: 0.2763\n",
            "Epoch [67/100], Train Loss: 0.3249, Val Loss: 0.2771\n",
            "Epoch [68/100], Train Loss: 0.3340, Val Loss: 0.2773\n",
            "Epoch [69/100], Train Loss: 0.3238, Val Loss: 0.2790\n",
            "Epoch [70/100], Train Loss: 0.3308, Val Loss: 0.2808\n",
            "Epoch [71/100], Train Loss: 0.3412, Val Loss: 0.2805\n",
            "Epoch [72/100], Train Loss: 0.2973, Val Loss: 0.2801\n",
            "Epoch [73/100], Train Loss: 0.3335, Val Loss: 0.2784\n",
            "Epoch [74/100], Train Loss: 0.3216, Val Loss: 0.2808\n",
            "Epoch [75/100], Train Loss: 0.3085, Val Loss: 0.2808\n",
            "Epoch [76/100], Train Loss: 0.3255, Val Loss: 0.2815\n",
            "Epoch [77/100], Train Loss: 0.3078, Val Loss: 0.2803\n",
            "Epoch [78/100], Train Loss: 0.3266, Val Loss: 0.2807\n",
            "Epoch [79/100], Train Loss: 0.3178, Val Loss: 0.2802\n",
            "Epoch [80/100], Train Loss: 0.3268, Val Loss: 0.2801\n",
            "Epoch [81/100], Train Loss: 0.3148, Val Loss: 0.2797\n",
            "Epoch [82/100], Train Loss: 0.3142, Val Loss: 0.2812\n",
            "Epoch [83/100], Train Loss: 0.3054, Val Loss: 0.2808\n",
            "Epoch [84/100], Train Loss: 0.3074, Val Loss: 0.2814\n",
            "Epoch [85/100], Train Loss: 0.3116, Val Loss: 0.2835\n",
            "Epoch [86/100], Train Loss: 0.2986, Val Loss: 0.2842\n",
            "Early stopping triggered\n"
          ]
        },
        {
          "output_type": "execute_result",
          "data": {
            "text/plain": [
              "<All keys matched successfully>"
            ]
          },
          "metadata": {},
          "execution_count": 14
        }
      ]
    },
    {
      "cell_type": "code",
      "source": [
        "model.eval()\n",
        "with torch.no_grad():\n",
        "    y_pred_prob = model(torch.tensor(X_test, dtype=torch.float32)).view(-1).numpy()\n",
        "    y_pred = (y_pred_prob > 0.5).astype(int)\n",
        "\n",
        "# Classification report\n",
        "print(classification_report(y_test, y_pred))\n",
        "\n",
        "# Confusion matrix\n",
        "cm = confusion_matrix(y_test, y_pred)\n",
        "sns.heatmap(cm, annot=True, fmt='d', cmap='Blues')\n",
        "plt.xlabel('Predicted Label')\n",
        "plt.ylabel('True Label')\n",
        "plt.title('Confusion Matrix')\n",
        "plt.show()\n",
        "\n",
        "plt.plot(train_losses, label='Train Loss')\n",
        "plt.plot(val_losses, label='Validation Loss')\n",
        "plt.xlabel('Epoch')\n",
        "plt.ylabel('Loss')\n",
        "plt.title('Training and Validation Loss')\n",
        "plt.legend()\n",
        "plt.show()\n"
      ],
      "metadata": {
        "colab": {
          "base_uri": "https://localhost:8080/",
          "height": 1000
        },
        "id": "cAypjNoNdS4A",
        "outputId": "e339c593-848a-45f3-9062-7dfffd60172d"
      },
      "execution_count": 15,
      "outputs": [
        {
          "output_type": "stream",
          "name": "stdout",
          "text": [
            "              precision    recall  f1-score   support\n",
            "\n",
            "           0       0.93      0.85      0.89        33\n",
            "           1       0.84      0.93      0.88        28\n",
            "\n",
            "    accuracy                           0.89        61\n",
            "   macro avg       0.89      0.89      0.89        61\n",
            "weighted avg       0.89      0.89      0.89        61\n",
            "\n"
          ]
        },
        {
          "output_type": "display_data",
          "data": {
            "text/plain": [
              "<Figure size 640x480 with 2 Axes>"
            ],
            "image/png": "[encoded data removed]"
          },
          "metadata": {}
        },
        {
          "output_type": "display_data",
          "data": {
            "text/plain": [
              "<Figure size 640x480 with 1 Axes>"
            ],
            "image/png": "[encoded data removed]"
          },
          "metadata": {}
        }
      ]
    }
  ]
}