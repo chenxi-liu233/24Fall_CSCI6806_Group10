{
 "cells": [
  {
   "cell_type": "code",
   "execution_count": 5,
   "metadata": {},
   "outputs": [],
   "source": [
    "import pandas as pd\n",
    "import numpy as np\n",
    "\n",
    "import torch\n",
    "import torch.nn as nn\n",
    "import torch.optim as optim\n",
    "from torch.utils.data import Dataset, DataLoader\n",
    "\n",
    "from ucimlrepo import fetch_ucirepo  # Ensure this package is installed\n",
    "from sklearn.model_selection import train_test_split\n",
    "from sklearn.preprocessing import StandardScaler\n",
    "from sklearn.metrics import classification_report, confusion_matrix\n",
    "import seaborn as sns\n",
    "import matplotlib.pyplot as plt\n"
   ]
  },
  {
   "cell_type": "code",
   "execution_count": 6,
   "metadata": {},
   "outputs": [
    {
     "name": "stdout",
     "output_type": "stream",
     "text": [
      "age         0\n",
      "sex         0\n",
      "cp          0\n",
      "trestbps    0\n",
      "chol        0\n",
      "fbs         0\n",
      "restecg     0\n",
      "thalach     0\n",
      "exang       0\n",
      "oldpeak     0\n",
      "slope       0\n",
      "ca          4\n",
      "thal        2\n",
      "num         0\n",
      "dtype: int64\n"
     ]
    }
   ],
   "source": [
    "# Fetch dataset\n",
    "heart_disease = fetch_ucirepo(id=45)\n",
    "\n",
    "# Data (as pandas DataFrames)\n",
    "X = heart_disease.data.features\n",
    "y = heart_disease.data.targets\n",
    "\n",
    "# Combine features and target\n",
    "df = pd.concat([X, y], axis=1)\n",
    "\n",
    "# Assign column names\n",
    "column_names = [\n",
    "    'age', 'sex', 'cp', 'trestbps', 'chol', 'fbs',\n",
    "    'restecg', 'thalach', 'exang', 'oldpeak',\n",
    "    'slope', 'ca', 'thal', 'num'\n",
    "]\n",
    "df.columns = column_names\n",
    "\n",
    "# Handle Missing Values\n",
    "df.replace(['?', ''], np.nan, inplace=True)\n",
    "df = df.apply(pd.to_numeric, errors='coerce')\n",
    "print(df.isnull().sum())\n",
    "\n",
    "# Fill missing numerical values with median\n",
    "for col in ['ca', 'thal', 'oldpeak', 'slope']:\n",
    "    df[col].fillna(df[col].median(), inplace=True)\n",
    "\n",
    "# Simplify 'num' to binary classification\n",
    "df['target'] = df['num'].apply(lambda x: 1 if x > 0 else 0)\n",
    "df.drop('num', axis=1, inplace=True)\n",
    "\n",
    "# Convert 'ca' and 'thal' to integer type before encoding\n",
    "df['ca'] = df['ca'].astype(int)\n",
    "df['thal'] = df['thal'].astype(int)\n",
    "\n",
    "# One-Hot Encoding for categorical variables\n",
    "categorical_cols = ['cp', 'restecg', 'slope', 'thal', 'ca']\n",
    "df = pd.get_dummies(df, columns=categorical_cols, drop_first=True)\n",
    "\n",
    "# Separate features and target variable\n",
    "X = df.drop('target', axis=1).values\n",
    "y = df['target'].values\n",
    "\n",
    "# Split the data into training and test sets\n",
    "X_train, X_test, y_train, y_test = train_test_split(\n",
    "    X, y, test_size=0.2, random_state=42, stratify=y)\n",
    "\n",
    "# Feature scaling\n",
    "scaler = StandardScaler()\n",
    "X_train = scaler.fit_transform(X_train)\n",
    "X_test = scaler.transform(X_test)\n"
   ]
  },
  {
   "cell_type": "code",
   "execution_count": null,
   "metadata": {},
   "outputs": [],
   "source": [
    "class HeartDiseaseDataset(Dataset):\n",
    "    def __init__(self, features, targets):\n",
    "        self.X = torch.tensor(features, dtype=torch.float32)\n",
    "        self.y = torch.tensor(targets, dtype=torch.float32)  # Binary classification\n",
    "    \n",
    "    def __len__(self):\n",
    "        return len(self.y)\n",
    "    \n",
    "    def __getitem__(self, idx):\n",
    "        return self.X[idx], self.y[idx]\n"
   ]
  },
  {
   "cell_type": "code",
   "execution_count": 8,
   "metadata": {},
   "outputs": [],
   "source": [
    "# Create datasets\n",
    "train_dataset = HeartDiseaseDataset(X_train, y_train)\n",
    "test_dataset = HeartDiseaseDataset(X_test, y_test)\n",
    "\n",
    "# Create data loaders\n",
    "batch_size = 16\n",
    "train_loader = DataLoader(dataset=train_dataset, batch_size=batch_size, shuffle=True)\n",
    "test_loader = DataLoader(dataset=test_dataset, batch_size=batch_size)\n"
   ]
  },
  {
   "cell_type": "code",
   "execution_count": 9,
   "metadata": {},
   "outputs": [],
   "source": [
    "class HeartDiseaseModel(nn.Module):\n",
    "    def __init__(self, input_dim):\n",
    "        super(HeartDiseaseModel, self).__init__()\n",
    "        self.network = nn.Sequential(\n",
    "            nn.Linear(input_dim, 64),\n",
    "            nn.ReLU(),\n",
    "            nn.Dropout(0.5),\n",
    "            nn.Linear(64, 32),\n",
    "            nn.ReLU(),\n",
    "            nn.Dropout(0.5),\n",
    "            nn.Linear(32, 1),\n",
    "            nn.Sigmoid()  # For binary classification\n",
    "        )\n",
    "        \n",
    "    def forward(self, x):\n",
    "        return self.network(x)\n"
   ]
  },
  {
   "cell_type": "code",
   "execution_count": 10,
   "metadata": {},
   "outputs": [],
   "source": [
    "input_dim = X_train.shape[1]\n",
    "model = HeartDiseaseModel(input_dim)\n",
    "\n",
    "criterion = nn.BCELoss()\n",
    "optimizer = optim.Adam(model.parameters(), lr=0.001)\n"
   ]
  },
  {
   "cell_type": "code",
   "execution_count": 11,
   "metadata": {},
   "outputs": [
    {
     "name": "stdout",
     "output_type": "stream",
     "text": [
      "Epoch [1/100], Train Loss: 0.6920, Val Loss: 0.6746\n",
      "Epoch [2/100], Train Loss: 0.6554, Val Loss: 0.6374\n",
      "Epoch [3/100], Train Loss: 0.6320, Val Loss: 0.5959\n",
      "Epoch [4/100], Train Loss: 0.5834, Val Loss: 0.5460\n",
      "Epoch [5/100], Train Loss: 0.5557, Val Loss: 0.4916\n",
      "Epoch [6/100], Train Loss: 0.5238, Val Loss: 0.4396\n",
      "Epoch [7/100], Train Loss: 0.4962, Val Loss: 0.3918\n",
      "Epoch [8/100], Train Loss: 0.4790, Val Loss: 0.3633\n",
      "Epoch [9/100], Train Loss: 0.4865, Val Loss: 0.3478\n",
      "Epoch [10/100], Train Loss: 0.4225, Val Loss: 0.3310\n",
      "Epoch [11/100], Train Loss: 0.4128, Val Loss: 0.3117\n",
      "Epoch [12/100], Train Loss: 0.3952, Val Loss: 0.3022\n",
      "Epoch [13/100], Train Loss: 0.3963, Val Loss: 0.3000\n",
      "Epoch [14/100], Train Loss: 0.3824, Val Loss: 0.2951\n",
      "Epoch [15/100], Train Loss: 0.3614, Val Loss: 0.2949\n",
      "Epoch [16/100], Train Loss: 0.3992, Val Loss: 0.2936\n",
      "Epoch [17/100], Train Loss: 0.4157, Val Loss: 0.2946\n",
      "Epoch [18/100], Train Loss: 0.3640, Val Loss: 0.2926\n",
      "Epoch [19/100], Train Loss: 0.3680, Val Loss: 0.2937\n",
      "Epoch [20/100], Train Loss: 0.3875, Val Loss: 0.2906\n",
      "Epoch [21/100], Train Loss: 0.3694, Val Loss: 0.2937\n",
      "Epoch [22/100], Train Loss: 0.3503, Val Loss: 0.2932\n",
      "Epoch [23/100], Train Loss: 0.3306, Val Loss: 0.2900\n",
      "Epoch [24/100], Train Loss: 0.3507, Val Loss: 0.2910\n",
      "Epoch [25/100], Train Loss: 0.3242, Val Loss: 0.2928\n",
      "Epoch [26/100], Train Loss: 0.3505, Val Loss: 0.2991\n",
      "Epoch [27/100], Train Loss: 0.3313, Val Loss: 0.3059\n",
      "Epoch [28/100], Train Loss: 0.3161, Val Loss: 0.3094\n",
      "Epoch [29/100], Train Loss: 0.3374, Val Loss: 0.3084\n",
      "Epoch [30/100], Train Loss: 0.3401, Val Loss: 0.3101\n",
      "Epoch [31/100], Train Loss: 0.3339, Val Loss: 0.3146\n",
      "Epoch [32/100], Train Loss: 0.3180, Val Loss: 0.3224\n",
      "Epoch [33/100], Train Loss: 0.3141, Val Loss: 0.3181\n",
      "Early stopping triggered\n"
     ]
    },
    {
     "data": {
      "text/plain": [
       "<All keys matched successfully>"
      ]
     },
     "execution_count": 11,
     "metadata": {},
     "output_type": "execute_result"
    }
   ],
   "source": [
    "num_epochs = 100\n",
    "patience = 10  # For early stopping\n",
    "best_loss = np.inf\n",
    "counter = 0\n",
    "train_losses = []\n",
    "val_losses = []\n",
    "\n",
    "for epoch in range(num_epochs):\n",
    "    model.train()\n",
    "    running_loss = 0.0\n",
    "    for X_batch, y_batch in train_loader:\n",
    "        optimizer.zero_grad()\n",
    "        outputs = model(X_batch).view(-1)\n",
    "        loss = criterion(outputs, y_batch)\n",
    "        loss.backward()\n",
    "        optimizer.step()\n",
    "        running_loss += loss.item() * X_batch.size(0)\n",
    "    epoch_loss = running_loss / len(train_loader.dataset)\n",
    "    train_losses.append(epoch_loss)\n",
    "    \n",
    "    # Validation phase\n",
    "    model.eval()\n",
    "    with torch.no_grad():\n",
    "        val_outputs = model(torch.tensor(X_test, dtype=torch.float32)).view(-1)\n",
    "        val_loss = criterion(val_outputs, torch.tensor(y_test, dtype=torch.float32)).item()\n",
    "        val_losses.append(val_loss)\n",
    "    \n",
    "    print(f\"Epoch [{epoch+1}/{num_epochs}], Train Loss: {epoch_loss:.4f}, Val Loss: {val_loss:.4f}\")\n",
    "    \n",
    "    # Early stopping\n",
    "    if val_loss < best_loss:\n",
    "        best_loss = val_loss\n",
    "        counter = 0\n",
    "        best_model_state = model.state_dict()\n",
    "    else:\n",
    "        counter += 1\n",
    "        if counter >= patience:\n",
    "            print(\"Early stopping triggered\")\n",
    "            break\n",
    "\n",
    "# Load the best model\n",
    "model.load_state_dict(best_model_state)\n"
   ]
  },
  {
   "cell_type": "code",
   "execution_count": 12,
   "metadata": {},
   "outputs": [
    {
     "name": "stdout",
     "output_type": "stream",
     "text": [
      "              precision    recall  f1-score   support\n",
      "\n",
      "           0       0.87      0.82      0.84        33\n",
      "           1       0.80      0.86      0.83        28\n",
      "\n",
      "    accuracy                           0.84        61\n",
      "   macro avg       0.84      0.84      0.84        61\n",
      "weighted avg       0.84      0.84      0.84        61\n",
      "\n"
     ]
    },
    {
     "data": {
      "image/png": "[encoded data removed]",
      "text/plain": [
       "<Figure size 432x288 with 2 Axes>"
      ]
     },
     "metadata": {
      "needs_background": "light"
     },
     "output_type": "display_data"
    }
   ],
   "source": [
    "model.eval()\n",
    "with torch.no_grad():\n",
    "    y_pred_prob = model(torch.tensor(X_test, dtype=torch.float32)).view(-1).numpy()\n",
    "    y_pred = (y_pred_prob > 0.5).astype(int)\n",
    "\n",
    "# Classification report\n",
    "print(classification_report(y_test, y_pred))\n",
    "\n",
    "# Confusion matrix\n",
    "cm = confusion_matrix(y_test, y_pred)\n",
    "sns.heatmap(cm, annot=True, fmt='d', cmap='Blues')\n",
    "plt.xlabel('Predicted Label')\n",
    "plt.ylabel('True Label')\n",
    "plt.title('Confusion Matrix')\n",
    "plt.show()\n"
   ]
  }
 ],
 "metadata": {
  "kernelspec": {
   "display_name": "base",
   "language": "python",
   "name": "python3"
  },
  "language_info": {
   "codemirror_mode": {
    "name": "ipython",
    "version": 3
   },
   "file_extension": ".py",
   "mimetype": "text/x-python",
   "name": "python",
   "nbconvert_exporter": "python",
   "pygments_lexer": "ipython3",
   "version": "3.9.7"
  }
 },
 "nbformat": 4,
 "nbformat_minor": 2
}
